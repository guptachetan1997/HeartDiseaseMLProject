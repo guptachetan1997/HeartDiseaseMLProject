{
 "cells": [
  {
   "cell_type": "markdown",
   "metadata": {},
   "source": [
    "Kmeans Clustering with Naive Bayes Classifier\n",
    "============================================="
   ]
  },
  {
   "cell_type": "markdown",
   "metadata": {},
   "source": [
    "Importing required python modules\n",
    "---------------------------------"
   ]
  },
  {
   "cell_type": "code",
   "execution_count": null,
   "metadata": {
    "collapsed": true
   },
   "outputs": [],
   "source": [
    "import pandas as pd\n",
    "import numpy as np\n",
    "import matplotlib.pyplot as plt\n",
    "from sklearn.cluster import KMeans\n",
    "from sklearn.cross_validation import train_test_split\n",
    "from sklearn.preprocessing import scale\n",
    "from sklearn.cross_validation import cross_val_score\n",
    "from sklearn import metrics\n",
    "from sklearn.naive_bayes import MultinomialNB\n",
    "from sklearn.cross_validation import KFold"
   ]
  },
  {
   "cell_type": "markdown",
   "metadata": {},
   "source": [
    "The following libraries have been used :\n",
    "- ** Pandas **: pandas is an open source, BSD-licensed library providing high-performance, easy-to-use data structures and data analysis tools for the Python programming language.\n",
    "- ** Numpy **: NumPy is the fundamental package for scientific computing with Python. \n",
    "- ** Matplotlib **: matplotlib is a python 2D plotting library which produces publication quality figures in a variety of hardcopy formats and interactive environments .\n",
    "- ** Sklearn **: It features various classification, regression and clustering algorithms including support vector machines, random forests, gradient boosting, k-means and DBSCAN, and is designed to interoperate with the Python numerical and scientific libraries NumPy and SciPy.\n"
   ]
  },
  {
   "cell_type": "markdown",
   "metadata": {},
   "source": [
    "Retrieving the dataset\n",
    "---------------------------------"
   ]
  },
  {
   "cell_type": "code",
   "execution_count": null,
   "metadata": {
    "collapsed": true
   },
   "outputs": [],
   "source": [
    "data = pd.read_csv('heart.csv', header=None)\n",
    "df = pd.DataFrame(data)"
   ]
  },
  {
   "cell_type": "markdown",
   "metadata": {},
   "source": [
    "1. Dataset is imported.\n",
    "2. The imported dataset is converted into a pandas DataFrame."
   ]
  },
  {
   "cell_type": "markdown",
   "metadata": {},
   "source": [
    "Plotting the Dataset\n",
    "---------------------------------"
   ]
  },
  {
   "cell_type": "code",
   "execution_count": null,
   "metadata": {
    "collapsed": true
   },
   "outputs": [],
   "source": [
    "fig = plt.figure()\n",
    "\n",
    "ax1 = fig.add_subplot(1,2,1)\n",
    "ax1.scatter(x[1],x[2], c=y)\n",
    "ax1.set_title(\"Original Data\")\n",
    "FP = 0\n",
    "FN = 0\n",
    "TN = 0\n",
    "TP = 0"
   ]
  },
  {
   "cell_type": "markdown",
   "metadata": {},
   "source": [
    "Matplotlib is used to plot the loaded pandas DataFrame."
   ]
  },
  {
   "cell_type": "markdown",
   "metadata": {},
   "source": [
    "Learning from the data:\n",
    "---------------------------------"
   ]
  },
  {
   "cell_type": "code",
   "execution_count": null,
   "metadata": {
    "collapsed": true
   },
   "outputs": [],
   "source": [
    "def nbkmh(train_index, test_index):"
   ]
  },
  {
   "cell_type": "markdown",
   "metadata": {},
   "source": [
    "This function is used to run the hybrid classifier."
   ]
  },
  {
   "cell_type": "code",
   "execution_count": null,
   "metadata": {
    "collapsed": true
   },
   "outputs": [],
   "source": [
    "\tx_kmeans = df.iloc[:, 0:5]\n",
    "\tx_kmeans = x_kmeans.drop(x_kmeans.columns[1:3], axis=1)\n",
    "\tx_kmeans = pd.DataFrame(scale(x_kmeans))\n",
    "\n",
    "\tx_naive = df.iloc[:, 0:13]\n",
    "\ty = df.iloc[:, 13]\n",
    "\ty = y-1\n",
    "\n",
    "\ty_train = pd.Series(y.iloc[train_index])\n",
    "\ty_test = pd.Series(y.iloc[test_index])\n",
    "\n",
    "\tx_train_kmeans = x_kmeans.iloc[train_index, :]\n",
    "\tx_test_kmeans = x_kmeans.iloc[test_index, :]\n",
    "\n",
    "\tx_train_naive = x_naive.iloc[train_index, :]\n",
    "\tx_test_naive = x_naive.iloc[test_index, :]"
   ]
  },
  {
   "cell_type": "markdown",
   "metadata": {},
   "source": [
    "Labels and attributes are extracted from the dataset for Kmeans and Naive Bayes respectively.\n",
    "Kmeans Clustering uses only the continous attributes."
   ]
  },
  {
   "cell_type": "code",
   "execution_count": null,
   "metadata": {
    "collapsed": true
   },
   "outputs": [],
   "source": [
    "\tclusters = 5\n",
    "\tmodel_kmeans = KMeans(init='k-means++', n_clusters=clusters, n_init=10,random_state=10000)\n",
    "\tmodel_kmeans.fit(x_train_kmeans)\n",
    "\tkmean_predictions = model_kmeans.predict(x_train_kmeans)"
   ]
  },
  {
   "cell_type": "markdown",
   "metadata": {},
   "source": [
    "Kmeans clustering is run on the dataset to cluster the data into 5 clusters. The initial cluster centers for k-mean clustering are selected in a smart way to speed up convergence."
   ]
  },
  {
   "cell_type": "code",
   "execution_count": null,
   "metadata": {
    "collapsed": true
   },
   "outputs": [],
   "source": [
    "\tx = [pd.DataFrame() for ii in range(0,clusters)]\n",
    "\ty = [pd.Series() for ii in range(0,clusters)]\n",
    "\titerators = zip(kmean_predictions,range(len(x_train_kmeans)))\n",
    "\tfor kmean_prediction,i in iterators:\n",
    "\t\trow_x =  x_train_naive.iloc[i, :]\n",
    "\t\trow_y = pd.Series(y_train.iloc[i])\n",
    "\t\tindex = int(kmean_prediction)\n",
    "\t\tx[index] = x[index].append(row_x, ignore_index=True)\n",
    "\t\ty[index] = y[index].append(row_y)"
   ]
  },
  {
   "cell_type": "markdown",
   "metadata": {},
   "source": [
    "Attributes(x) and labels(y) are then grouped according to the cluster defined by the Kmeans Clustering."
   ]
  },
  {
   "cell_type": "code",
   "execution_count": null,
   "metadata": {
    "collapsed": true
   },
   "outputs": [],
   "source": [
    "\tclstr_n = [MultinomialNB(alpha=2,fit_prior=True) for ii in range(0,clusters)]\n",
    "\tfor i in range(0,clusters):\n",
    "\t\tclstr_n[i].fit(x[i], y[i])"
   ]
  },
  {
   "cell_type": "markdown",
   "metadata": {},
   "source": [
    "Naive Bayes Classifier is then run on each cluster individually. Additive (Laplace/Lidstone) smoothing parameter is set as 2. Class prior probabilities are learned."
   ]
  },
  {
   "cell_type": "code",
   "execution_count": null,
   "metadata": {
    "collapsed": true
   },
   "outputs": [],
   "source": [
    "\tpredicts = []\n",
    "\tc=0\n",
    "\tfor i in range(len(x_test_kmeans)):\n",
    "\t\tprediction = model_kmeans.predict(\n",
    "                    x_test_kmeans.iloc[i, :].reshape(1,-1))\n",
    "\t\tprediction = int(prediction)\n",
    "\t\tpred_naive = clstr_n[prediction].predict(\n",
    "                    x_test_naive.iloc[i, :].reshape(1,-1))\n",
    "\t\tpredicts.append(pred_naive)\n",
    "\t\tif pred_naive == y_test.iloc[i]:\n",
    "\t\t\tc+=1\n",
    "\tprint ((c*100.0)/len(x_test_kmeans))"
   ]
  },
  {
   "cell_type": "markdown",
   "metadata": {},
   "source": [
    "Accuracies are predicted on the test set using the hybrid classifier."
   ]
  },
  {
   "cell_type": "code",
   "execution_count": null,
   "metadata": {
    "collapsed": true
   },
   "outputs": [],
   "source": [
    "\tpredicts = np.array(predicts)\n",
    "\tcm = metrics.confusion_matrix(y_test, predicts)/len(y_test)\n",
    "\t# print (cm)\n",
    "\tglobal FP\n",
    "\tglobal FN\n",
    "\tglobal TN\n",
    "\tglobal TP\n",
    "\tFP += cm[0][0]\n",
    "\tFN += cm[1][0]\n",
    "\tTN += cm[0][1]\n",
    "\tTP += cm[1][1]\n",
    "\treturn ((c*100.0)/len(x_test_kmeans))"
   ]
  },
  {
   "cell_type": "markdown",
   "metadata": {},
   "source": [
    "Compute confusion matrix to evaluate the accuracy of a classification and build a text report showing the main classification metrics."
   ]
  },
  {
   "cell_type": "code",
   "execution_count": null,
   "metadata": {
    "collapsed": true
   },
   "outputs": [],
   "source": [
    "def main():\n",
    "\tscores = []\n",
    "\tkf = KFold(n=df.shape[0], n_folds=10)\n",
    "\tfor (train_index,test_index),i in zip(kf,range(0,10)):\n",
    "\t\tprint(\"Iteration \" + str(i+1) + \" : \")\n",
    "\t\tscores.append(nbkmh(train_index, test_index))\n",
    "\tprint(\"\\n 10 Fold Accuracy\",np.array(scores).mean())\n",
    "\tprint(\"FP\", FP*10)\n",
    "\tprint(\"FN\", FN*10)\n",
    "\tprint(\"TN\", TN*10)\n",
    "\tprint(\"TP\", TP*10)\n",
    "\n",
    "if __name__ == '__main__':\n",
    "\tmain()"
   ]
  },
  {
   "cell_type": "markdown",
   "metadata": {},
   "source": [
    "This is the function that is used to call the function nbkmh() and run 10 Fold Cross Validation."
   ]
  }
 ],
 "metadata": {
  "kernelspec": {
   "display_name": "Python 3",
   "language": "python",
   "name": "python3"
  },
  "language_info": {
   "codemirror_mode": {
    "name": "ipython",
    "version": 3
   },
   "file_extension": ".py",
   "mimetype": "text/x-python",
   "name": "python",
   "nbconvert_exporter": "python",
   "pygments_lexer": "ipython3",
   "version": "3.5.2"
  }
 },
 "nbformat": 4,
 "nbformat_minor": 0
}
