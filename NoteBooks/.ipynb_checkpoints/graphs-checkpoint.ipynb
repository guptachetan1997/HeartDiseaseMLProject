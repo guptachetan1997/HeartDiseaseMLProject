{
 "cells": [
  {
   "cell_type": "markdown",
   "metadata": {},
   "source": [
    "# Graphical Representations"
   ]
  },
  {
   "cell_type": "markdown",
   "metadata": {},
   "source": [
    "Importing required python modules\n",
    "---------------------------------"
   ]
  },
  {
   "cell_type": "code",
   "execution_count": 1,
   "metadata": {
    "collapsed": true
   },
   "outputs": [],
   "source": [
    "import pandas as pd\n",
    "import numpy as np\n",
    "import matplotlib.pyplot as plt\n",
    "import matplotlib.patches as mpatches"
   ]
  },
  {
   "cell_type": "markdown",
   "metadata": {},
   "source": [
    "The following libraries have been used :\n",
    "- ** Pandas **: pandas is an open source, BSD-licensed library providing high-performance, easy-to-use data structures and data analysis tools for the Python programming language.\n",
    "- ** Numpy **: NumPy is the fundamental package for scientific computing with Python. \n",
    "- ** Matplotlib **: matplotlib is a python 2D plotting library which produces publication quality figures in a variety of hardcopy formats and interactive environments ."
   ]
  },
  {
   "cell_type": "markdown",
   "metadata": {},
   "source": [
    "Retrieving the Dataset\n",
    "---------------------------------"
   ]
  },
  {
   "cell_type": "code",
   "execution_count": null,
   "metadata": {
    "collapsed": true
   },
   "outputs": [],
   "source": [
    "data = pd.read_csv('heart.csv', header=None)\n",
    "df = pd.DataFrame(data) #data frame\n",
    "y = df.iloc[:, 13]\n",
    "y = y-1"
   ]
  },
  {
   "cell_type": "markdown",
   "metadata": {},
   "source": [
    "1. Dataset is imported.\n",
    "2. The imported dataset is converted into a pandas DataFrame.\n",
    "3. Attributes(x) and Labels(y) are extracted"
   ]
  },
  {
   "cell_type": "markdown",
   "metadata": {},
   "source": [
    "Plotting the Dataset\n",
    "--------------------"
   ]
  },
  {
   "cell_type": "code",
   "execution_count": null,
   "metadata": {
    "collapsed": true
   },
   "outputs": [],
   "source": [
    "def chol_age():\n",
    "\tx = df.iloc[:, 0:5]\n",
    "\tx = x.drop(x.columns[1:4], axis=1)\n",
    "\tchol_avgs = x.groupby(0, sort=True).mean()\n",
    "\tages = (chol_avgs[4].index.values)\n",
    "\tavgs = (chol_avgs[4].values)\n",
    "\tplt.plot(ages,avgs,'g-')\n",
    "\tplt.title('Variation of Cholestrol Levels with Age')\n",
    "\tplt.xlabel('Age(years)')\n",
    "\tplt.ylabel('Serum Cholestrol in mg/dl')"
   ]
  },
  {
   "cell_type": "markdown",
   "metadata": {},
   "source": [
    "Plotting the variation of cholestrol levels with Age."
   ]
  },
  {
   "cell_type": "code",
   "execution_count": null,
   "metadata": {
    "collapsed": true
   },
   "outputs": [],
   "source": [
    "def heart_atrack_heart_rate_bp():\n",
    "\tx = df.iloc[:, 0:14]\n",
    "\tx[14] = np.round(df[3], -1)\n",
    "\n",
    "\tx_dis = x[x[13] == 2]\n",
    "\tbp_set_dis = x_dis.groupby(14, sort=True)\n",
    "\tnums_dis = (bp_set_dis.count()[0]).index.values\n",
    "\tbps_dis = (bp_set_dis.count()[0]).values\n",
    "\tbar2 = plt.bar(nums_dis+2, bps_dis, color='r', width=2)\n",
    "\n",
    "\tx_nor = x[x[13] == 1]\n",
    "\tbp_set_nor = x_nor.groupby(14, sort=True)\n",
    "\tnums_nor = (bp_set_nor.count()[0]).index.values\n",
    "\tbps_nor = (bp_set_nor.count()[0]).values\n",
    "\tbar1 = plt.bar(nums_nor, bps_nor, color='g', width=2)\n",
    "\n",
    "\tplt.title('Resting blood pressure as heart risk indicator')\n",
    "\tplt.xlabel('Resting Blood Pressure Bucket')\n",
    "\tplt.ylabel('Number of Patients')\n",
    "\tplt.legend((bar1[0], bar2[0]), ('Safe', 'At Risk'))"
   ]
  },
  {
   "cell_type": "markdown",
   "metadata": {},
   "source": [
    "Showing the resting blood pressure as a heart disease risk indicator."
   ]
  },
  {
   "cell_type": "code",
   "execution_count": null,
   "metadata": {
    "collapsed": true
   },
   "outputs": [],
   "source": [
    "def pie_chart_chest_pain():\n",
    "\tx = df.iloc[:, 0:3]\n",
    "\tsets = x.groupby(2).count()\n",
    "\tfin_lab = ['Typical Angina', 'Atypical Angina', 'Non-anginal Pain', 'Asymptotic']\n",
    "\tvalues = (sets[0].values)\n",
    "\tplt.pie(values,\n",
    "        labels=fin_lab,\n",
    "        colors=['yellowgreen', 'gold', 'lightskyblue', 'lightcoral'],\n",
    "        explode = [0,0.2,0,0], \n",
    "        shadow=True,\n",
    "        autopct='%1.1f%%',\n",
    "        startangle=90)\n",
    "\tplt.title('Chest Pain Types')"
   ]
  },
  {
   "cell_type": "markdown",
   "metadata": {},
   "source": [
    "A pie chart of chest pain types."
   ]
  },
  {
   "cell_type": "code",
   "execution_count": null,
   "metadata": {
    "collapsed": true
   },
   "outputs": [],
   "source": [
    "def scatter_chart():\n",
    "\tx = df.iloc[:, 0:13]\n",
    "\tsc = plt.scatter(x[7],x[4], c=y, cmap='summer')\n",
    "\tplt.title('Dataset Scatter')\n",
    "\tclasses = ['Safe', 'At Risk']\n",
    "\tclass_colours = ['g','y']\n",
    "\trecs = []\n",
    "\tfor i in range(0,len(class_colours)):\n",
    "\t\trecs.append(mpatches.Rectangle((0,0),1,1,fc=class_colours[i]))\n",
    "\tplt.legend(recs, classes)"
   ]
  },
  {
   "cell_type": "markdown",
   "metadata": {},
   "source": [
    "The dataser scatter showing the safe and at risk records."
   ]
  }
 ],
 "metadata": {
  "kernelspec": {
   "display_name": "Python 3",
   "language": "python",
   "name": "python3"
  },
  "language_info": {
   "codemirror_mode": {
    "name": "ipython",
    "version": 3
   },
   "file_extension": ".py",
   "mimetype": "text/x-python",
   "name": "python",
   "nbconvert_exporter": "python",
   "pygments_lexer": "ipython3",
   "version": "3.5.2"
  }
 },
 "nbformat": 4,
 "nbformat_minor": 0
}
