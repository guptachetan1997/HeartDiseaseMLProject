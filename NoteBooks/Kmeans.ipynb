{
 "cells": [
  {
   "cell_type": "markdown",
   "metadata": {},
   "source": [
    "Kmeans Clustering\n",
    "================="
   ]
  },
  {
   "cell_type": "markdown",
   "metadata": {},
   "source": [
    "Importing required python modules\n",
    "---------------------------------"
   ]
  },
  {
   "cell_type": "code",
   "execution_count": null,
   "metadata": {
    "collapsed": true
   },
   "outputs": [],
   "source": [
    "import pandas as pd  \n",
    "import numpy as np\n",
    "import matplotlib.pyplot as plt\n",
    "from sklearn.cluster import KMeans\n",
    "from sklearn.cross_validation import train_test_split\n",
    "from sklearn.preprocessing import normalize,scale\n",
    "from sklearn.cross_validation import cross_val_score\n",
    "from sklearn import metrics"
   ]
  },
  {
   "cell_type": "markdown",
   "metadata": {},
   "source": [
    "The following libraries have been used :\n",
    "- ** Pandas **: pandas is an open source, BSD-licensed library providing high-performance, easy-to-use data structures and data analysis tools for the Python programming language.\n",
    "- ** Numpy **: NumPy is the fundamental package for scientific computing with Python. \n",
    "- ** Matplotlib **: matplotlib is a python 2D plotting library which produces publication quality figures in a variety of hardcopy formats and interactive environments .\n",
    "- ** Sklearn **: It features various classification, regression and clustering algorithms including support vector machines, random forests, gradient boosting, k-means and DBSCAN, and is designed to interoperate with the Python numerical and scientific libraries NumPy and SciPy.\n"
   ]
  },
  {
   "cell_type": "markdown",
   "metadata": {},
   "source": [
    "Retrieving the dataset\n",
    "---------------------------------"
   ]
  },
  {
   "cell_type": "code",
   "execution_count": null,
   "metadata": {
    "collapsed": true
   },
   "outputs": [],
   "source": [
    "data = pd.read_csv('heart.csv', header=None)\n",
    "df = pd.DataFrame(data)\n",
    "\n",
    "x = df.iloc[:, 0:5]\n",
    "x = x.drop(x.columns[1:3], axis=1)\n",
    "x = pd.DataFrame(scale(x))\n",
    "\n",
    "y = df.iloc[:, 13]\n",
    "y = y-1"
   ]
  },
  {
   "cell_type": "markdown",
   "metadata": {},
   "source": [
    "1. Dataset is imported.\n",
    "2. The imported dataset is converted into a pandas DataFrame.\n",
    "3. Attributes(x) and labels(y) are extracted."
   ]
  },
  {
   "cell_type": "markdown",
   "metadata": {},
   "source": [
    "Plotting the Dataset\n",
    "---------------------------------"
   ]
  },
  {
   "cell_type": "code",
   "execution_count": null,
   "metadata": {
    "collapsed": true
   },
   "outputs": [],
   "source": [
    "fig = plt.figure()\n",
    "\n",
    "ax1 = fig.add_subplot(1,2,1)\n",
    "ax1.scatter(x[1],x[2], c=y)\n",
    "ax1.set_title(\"Original Data\")"
   ]
  },
  {
   "cell_type": "markdown",
   "metadata": {},
   "source": [
    "Matplotlib is used to plot the loaded pandas DataFrame."
   ]
  },
  {
   "cell_type": "markdown",
   "metadata": {},
   "source": [
    "Learning from the data:\n",
    "---------------------------------"
   ]
  },
  {
   "cell_type": "code",
   "execution_count": null,
   "metadata": {
    "collapsed": true
   },
   "outputs": [],
   "source": [
    "clusters = 2\n",
    "\n",
    "model = KMeans(init='k-means++', n_clusters=clusters, n_init=10,random_state=100)\n",
    "\n",
    "scores = cross_val_score(model, x, y, scoring='accuracy', cv=10)\n",
    "print (\"10-Fold Accuracy : \", scores.mean()*100)\n",
    "\n",
    "model.fit(x)\n",
    "\n",
    "predicts = model.predict(x)\n",
    "print (\"Accuracy(Total) = \", count(predicts == np.array(y))/(len(y)*1.0) *100)\n",
    "centroids = model.cluster_centers_"
   ]
  },
  {
   "cell_type": "markdown",
   "metadata": {},
   "source": [
    "Here **model** is an instance of KMeans method from sklearn.cluster.\n",
    "The number of clusters to form are taken as 2. \n",
    "The initial cluster centers for k-mean clustering are selected in a smart way to speed up convergence.\n",
    "10 Fold Cross Validation is used to verify the results."
   ]
  },
  {
   "cell_type": "code",
   "execution_count": null,
   "metadata": {
    "collapsed": true
   },
   "outputs": [],
   "source": [
    "ax1.scatter(centroids[:, 1], centroids[:, 2],\n",
    "            marker='x', s=169, linewidths=3,\n",
    "            color='b', zorder=10)\n",
    "\n",
    "ax2 = fig.add_subplot(1,2,2)\n",
    "ax2.set_title(\"KMeans Clustering\")\n",
    "ax2.scatter(x[1],x[2], c=predicts)\n",
    "ax2.scatter(centroids[:, 1], centroids[:, 2],\n",
    "            marker='x', s=169, linewidths=3,\n",
    "            color='b', zorder=10)"
   ]
  },
  {
   "cell_type": "markdown",
   "metadata": {},
   "source": [
    "The learned cluster centroids are then used for prediction and to plot the clustered dataset."
   ]
  },
  {
   "cell_type": "code",
   "execution_count": null,
   "metadata": {
    "collapsed": true
   },
   "outputs": [],
   "source": [
    "cm = metrics.confusion_matrix(y, predicts)\n",
    "print (cm/len(y))\n",
    "print (metrics.classification_report(y, predicts))\n",
    "\n",
    "plt.show()"
   ]
  },
  {
   "cell_type": "markdown",
   "metadata": {},
   "source": [
    "Compute confusion matrix to evaluate the accuracy of a classification and build a text report showing the main classification metrics."
   ]
  }
 ],
 "metadata": {
  "kernelspec": {
   "display_name": "Python 3",
   "language": "python",
   "name": "python3"
  },
  "language_info": {
   "codemirror_mode": {
    "name": "ipython",
    "version": 3
   },
   "file_extension": ".py",
   "mimetype": "text/x-python",
   "name": "python",
   "nbconvert_exporter": "python",
   "pygments_lexer": "ipython3",
   "version": "3.5.2"
  }
 },
 "nbformat": 4,
 "nbformat_minor": 0
}
